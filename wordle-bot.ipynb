{
 "cells": [
  {
   "cell_type": "code",
   "execution_count": 193,
   "metadata": {},
   "outputs": [],
   "source": [
    "import pandas as pd\n",
    "\n",
    "import string\n",
    "\n",
    "import re"
   ]
  },
  {
   "cell_type": "code",
   "execution_count": 174,
   "metadata": {},
   "outputs": [],
   "source": [
    "words_df = pd.DataFrame({\"word\":pd.Series(dtype='str')})"
   ]
  },
  {
   "cell_type": "code",
   "execution_count": 175,
   "metadata": {},
   "outputs": [
    {
     "name": "stderr",
     "output_type": "stream",
     "text": [
      "C:\\Users\\lhughes\\Anaconda3\\lib\\site-packages\\pandas\\util\\_decorators.py:311: ParserWarning: Falling back to the 'python' engine because the 'c' engine does not support regex separators (separators > 1 char and different from '\\s+' are interpreted as regex); you can avoid this warning by specifying engine='python'.\n",
      "  return func(*args, **kwargs)\n"
     ]
    }
   ],
   "source": [
    "for letter in list(string.ascii_uppercase):\n",
    "    # print(f\"word-library/{letter}word.csv\")\n",
    "    # Read dataframe:\n",
    "    awordframe = pd.read_csv(f\"word-library/{letter}word.csv\",header=None,sep=\"rwerere\",quoting=3,encoding='cp1252')\n",
    "    # Remove whitespace:\n",
    "    awordframe[0] = awordframe[0].str.replace(' ', '')\n",
    "    # Filter to only 5-letter words\n",
    "    awordframe = awordframe.loc[awordframe[0].str.len() == 5]\n",
    "    # Filter to only words without punctuation:\n",
    "    awordframe = awordframe.loc[awordframe[0].str.contains(\"[a-z]{5}\")]\n",
    "    # Filter to only unique results\n",
    "    awordframe = awordframe[0].unique()\n",
    "    # Append to words_df:\n",
    "    words_df = words_df.append(pd.DataFrame({\"word\":awordframe}))\n",
    "words_df = words_df.reset_index(drop=True)"
   ]
  },
  {
   "cell_type": "code",
   "execution_count": 176,
   "metadata": {},
   "outputs": [],
   "source": [
    "def find_best_letters(possible_words):\n",
    "    best_letters = []\n",
    "    for letter_num in [1,2,3,4,5]:\n",
    "        letter_freq = possible_words.copy()\n",
    "        letter_freq['word'] = possible_words['word'].str[letter_num-1:letter_num]\n",
    "        letter_freq = letter_freq.groupby(['word']).size().reset_index(name='counts')\n",
    "        letter_freq = letter_freq.loc[~letter_freq['word'].isin(best_letters)]\n",
    "        most_likely_letter = letter_freq.loc[letter_freq['counts'].idxmax()]['word']\n",
    "        best_letters.append(most_likely_letter)\n",
    "    return best_letters"
   ]
  },
  {
   "cell_type": "code",
   "execution_count": 177,
   "metadata": {},
   "outputs": [],
   "source": [
    "def rank_words_by_closeness(possible_words,word):\n",
    "    possible_words['score'] = 0\n",
    "    for w_no in range(len(possible_words)):\n",
    "        w = possible_words['word'][w_no]\n",
    "        score = 0\n",
    "        for letternum in range(len(w)):\n",
    "            if word[letternum] == w[letternum]:\n",
    "                score += 1 \n",
    "        possible_words.at[w_no, 'score'] = score\n",
    "    best_ranked_word = possible_words.loc[possible_words['score'].idxmax()]['word']\n",
    "    return best_ranked_word"
   ]
  },
  {
   "cell_type": "code",
   "execution_count": 167,
   "metadata": {},
   "outputs": [
    {
     "data": {
      "text/plain": [
       "'saree'"
      ]
     },
     "execution_count": 167,
     "metadata": {},
     "output_type": "execute_result"
    }
   ],
   "source": [
    "rank_words_by_closeness(words_df,find_best_letters(words_df))"
   ]
  },
  {
   "cell_type": "code",
   "execution_count": 213,
   "metadata": {},
   "outputs": [
    {
     "name": "stdout",
     "output_type": "stream",
     "text": [
      "saree\n",
      "Was word accepted? y/n\n",
      "bared\n",
      "Was word accepted? y/n\n",
      "Please enter the result: (key: x = blank, y = yellow, g = green)\n",
      "Invalid Input. Please enter the result: (key: x = blank, y = yellow, g = green)\n",
      "Invalid Input. Please enter the result: (key: x = blank, y = yellow, g = green)\n",
      "Invalid Input. Please enter the result: (key: x = blank, y = yellow, g = green)\n",
      "Invalid Input. Please enter the result: (key: x = blank, y = yellow, g = green)\n",
      "Invalid Input. Please enter the result: (key: x = blank, y = yellow, g = green)\n",
      "barky\n",
      "Was word accepted? y/n\n"
     ]
    },
    {
     "ename": "KeyboardInterrupt",
     "evalue": "Interrupted by user",
     "output_type": "error",
     "traceback": [
      "\u001b[1;31m---------------------------------------------------------------------------\u001b[0m",
      "\u001b[1;31mKeyboardInterrupt\u001b[0m                         Traceback (most recent call last)",
      "\u001b[1;32m~\\AppData\\Local\\Temp/ipykernel_10092/2170886093.py\u001b[0m in \u001b[0;36m<module>\u001b[1;34m\u001b[0m\n\u001b[0;32m      7\u001b[0m     \u001b[0mpossible_words\u001b[0m \u001b[1;33m=\u001b[0m \u001b[0mpossible_words\u001b[0m\u001b[1;33m.\u001b[0m\u001b[0mloc\u001b[0m\u001b[1;33m[\u001b[0m\u001b[0mpossible_words\u001b[0m\u001b[1;33m[\u001b[0m\u001b[1;34m'word'\u001b[0m\u001b[1;33m]\u001b[0m \u001b[1;33m!=\u001b[0m \u001b[0moptimal_word\u001b[0m\u001b[1;33m]\u001b[0m\u001b[1;33m.\u001b[0m\u001b[0mreset_index\u001b[0m\u001b[1;33m(\u001b[0m\u001b[0mdrop\u001b[0m\u001b[1;33m=\u001b[0m\u001b[1;32mTrue\u001b[0m\u001b[1;33m)\u001b[0m\u001b[1;33m\u001b[0m\u001b[1;33m\u001b[0m\u001b[0m\n\u001b[0;32m      8\u001b[0m     \u001b[0mprint\u001b[0m\u001b[1;33m(\u001b[0m\u001b[1;34m'Was word accepted? y/n'\u001b[0m\u001b[1;33m)\u001b[0m\u001b[1;33m\u001b[0m\u001b[1;33m\u001b[0m\u001b[0m\n\u001b[1;32m----> 9\u001b[1;33m     \u001b[0mword_valid\u001b[0m \u001b[1;33m=\u001b[0m \u001b[0minput\u001b[0m\u001b[1;33m(\u001b[0m\u001b[1;33m)\u001b[0m\u001b[1;33m\u001b[0m\u001b[1;33m\u001b[0m\u001b[0m\n\u001b[0m\u001b[0;32m     10\u001b[0m     \u001b[1;32mwhile\u001b[0m \u001b[0mword_valid\u001b[0m \u001b[1;32mnot\u001b[0m \u001b[1;32min\u001b[0m \u001b[1;33m[\u001b[0m\u001b[1;34m'y'\u001b[0m\u001b[1;33m,\u001b[0m\u001b[1;34m'n'\u001b[0m\u001b[1;33m]\u001b[0m\u001b[1;33m:\u001b[0m\u001b[1;33m\u001b[0m\u001b[1;33m\u001b[0m\u001b[0m\n\u001b[0;32m     11\u001b[0m         \u001b[0mprint\u001b[0m\u001b[1;33m(\u001b[0m\u001b[1;34m'Invalid input. Was word accepted? y/n'\u001b[0m\u001b[1;33m)\u001b[0m\u001b[1;33m\u001b[0m\u001b[1;33m\u001b[0m\u001b[0m\n",
      "\u001b[1;32m~\\Anaconda3\\lib\\site-packages\\ipykernel\\kernelbase.py\u001b[0m in \u001b[0;36mraw_input\u001b[1;34m(self, prompt)\u001b[0m\n\u001b[0;32m   1004\u001b[0m                 \u001b[1;34m\"raw_input was called, but this frontend does not support input requests.\"\u001b[0m\u001b[1;33m\u001b[0m\u001b[1;33m\u001b[0m\u001b[0m\n\u001b[0;32m   1005\u001b[0m             )\n\u001b[1;32m-> 1006\u001b[1;33m         return self._input_request(\n\u001b[0m\u001b[0;32m   1007\u001b[0m             \u001b[0mstr\u001b[0m\u001b[1;33m(\u001b[0m\u001b[0mprompt\u001b[0m\u001b[1;33m)\u001b[0m\u001b[1;33m,\u001b[0m\u001b[1;33m\u001b[0m\u001b[1;33m\u001b[0m\u001b[0m\n\u001b[0;32m   1008\u001b[0m             \u001b[0mself\u001b[0m\u001b[1;33m.\u001b[0m\u001b[0m_parent_ident\u001b[0m\u001b[1;33m[\u001b[0m\u001b[1;34m\"shell\"\u001b[0m\u001b[1;33m]\u001b[0m\u001b[1;33m,\u001b[0m\u001b[1;33m\u001b[0m\u001b[1;33m\u001b[0m\u001b[0m\n",
      "\u001b[1;32m~\\Anaconda3\\lib\\site-packages\\ipykernel\\kernelbase.py\u001b[0m in \u001b[0;36m_input_request\u001b[1;34m(self, prompt, ident, parent, password)\u001b[0m\n\u001b[0;32m   1049\u001b[0m             \u001b[1;32mexcept\u001b[0m \u001b[0mKeyboardInterrupt\u001b[0m\u001b[1;33m:\u001b[0m\u001b[1;33m\u001b[0m\u001b[1;33m\u001b[0m\u001b[0m\n\u001b[0;32m   1050\u001b[0m                 \u001b[1;31m# re-raise KeyboardInterrupt, to truncate traceback\u001b[0m\u001b[1;33m\u001b[0m\u001b[1;33m\u001b[0m\u001b[0m\n\u001b[1;32m-> 1051\u001b[1;33m                 \u001b[1;32mraise\u001b[0m \u001b[0mKeyboardInterrupt\u001b[0m\u001b[1;33m(\u001b[0m\u001b[1;34m\"Interrupted by user\"\u001b[0m\u001b[1;33m)\u001b[0m \u001b[1;32mfrom\u001b[0m \u001b[1;32mNone\u001b[0m\u001b[1;33m\u001b[0m\u001b[1;33m\u001b[0m\u001b[0m\n\u001b[0m\u001b[0;32m   1052\u001b[0m             \u001b[1;32mexcept\u001b[0m \u001b[0mException\u001b[0m\u001b[1;33m:\u001b[0m\u001b[1;33m\u001b[0m\u001b[1;33m\u001b[0m\u001b[0m\n\u001b[0;32m   1053\u001b[0m                 \u001b[0mself\u001b[0m\u001b[1;33m.\u001b[0m\u001b[0mlog\u001b[0m\u001b[1;33m.\u001b[0m\u001b[0mwarning\u001b[0m\u001b[1;33m(\u001b[0m\u001b[1;34m\"Invalid Message:\"\u001b[0m\u001b[1;33m,\u001b[0m \u001b[0mexc_info\u001b[0m\u001b[1;33m=\u001b[0m\u001b[1;32mTrue\u001b[0m\u001b[1;33m)\u001b[0m\u001b[1;33m\u001b[0m\u001b[1;33m\u001b[0m\u001b[0m\n",
      "\u001b[1;31mKeyboardInterrupt\u001b[0m: Interrupted by user"
     ]
    }
   ],
   "source": [
    "possible_words = words_df.copy()\n",
    "win = False\n",
    "while not win:\n",
    "    best_letters = find_best_letters(possible_words)\n",
    "    optimal_word = rank_words_by_closeness(possible_words,best_letters)\n",
    "    print(optimal_word)\n",
    "    possible_words = possible_words.loc[possible_words['word'] != optimal_word].reset_index(drop=True)\n",
    "    print('Was word accepted? y/n')\n",
    "    word_valid = input()\n",
    "    while word_valid not in ['y','n']:\n",
    "        print('Invalid input. Was word accepted? y/n')\n",
    "        word_valid = input()\n",
    "    if word_valid == 'y':\n",
    "        print('Please enter the result: (key: x = blank, y = yellow, g = green)')\n",
    "        result = input()\n",
    "        while not (bool(re.match(\"[xyg]{5}\", result)) and  len(result) == 5):\n",
    "            print('Invalid Input. Please enter the result: (key: x = blank, y = yellow, g = green)')\n",
    "            result = input()\n",
    "        \n",
    "    else:\n",
    "        pass\n",
    "    #break"
   ]
  },
  {
   "cell_type": "code",
   "execution_count": 211,
   "metadata": {},
   "outputs": [
    {
     "data": {
      "text/plain": [
       "False"
      ]
     },
     "execution_count": 211,
     "metadata": {},
     "output_type": "execute_result"
    }
   ],
   "source": [
    "not (bool(re.match(\"[xyg]{5}\", \"ygxxx\")) and  len(\"ygxxx\") == 5)"
   ]
  },
  {
   "cell_type": "code",
   "execution_count": 203,
   "metadata": {},
   "outputs": [
    {
     "data": {
      "text/plain": [
       "True"
      ]
     },
     "execution_count": 203,
     "metadata": {},
     "output_type": "execute_result"
    }
   ],
   "source": []
  },
  {
   "cell_type": "code",
   "execution_count": null,
   "metadata": {},
   "outputs": [],
   "source": []
  }
 ],
 "metadata": {
  "interpreter": {
   "hash": "fe428b61d800a31fed1a22560516392cdae0fb078e91b48ae7c2801c2e9cfa41"
  },
  "kernelspec": {
   "display_name": "Python 3.9.7 ('base')",
   "language": "python",
   "name": "python3"
  },
  "language_info": {
   "codemirror_mode": {
    "name": "ipython",
    "version": 3
   },
   "file_extension": ".py",
   "mimetype": "text/x-python",
   "name": "python",
   "nbconvert_exporter": "python",
   "pygments_lexer": "ipython3",
   "version": "3.9.7"
  },
  "orig_nbformat": 4
 },
 "nbformat": 4,
 "nbformat_minor": 2
}
